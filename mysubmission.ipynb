!pip install tensorflow wget

dataset = '/bohr/ai4spulseeis-lr97/v3'

import pickle
import numpy as np
import tensorflow as tf
from wget import download

download('https://raw.githubusercontent.com/breadbread1984/EIS_prediction/main/predictor.keras')
download('https://raw.githubusercontent.com/breadbread1984/EIS_prediction/main/sos.npy')
model = tf.keras.saving.load_model('predictor.keras')
sos = tf.constant(np.load('sos.npy'))

output = open('submission.csv','w')
output.write('test_data_number,soc(%),EIS_real,EIS_imaginary\n')
for f in listdir(join(dataset, 'test_datasets')):
  stem, ext = splitext(f)
  if ext != '.pkl': continue
  test_num = int(stem.replace('test_pulse_', ''))
  with open(join(dataset, 'test_datasets', f), 'rb') as f:
    data = pickle.load(f)
  for SOC, pulse_samples in tqdm(data.items()):
    soc = SOC.replace('%SOC','')
    pulse = tf.expand_dims(tf.stack([pulse_samples['Voltage'], pulse_samples['Current']], axis = -1), axis = 0) # pulse.shape = (1, seq, 2)
    eis = tf.tile(sos, (pulse.shape[0], 1, 1))
    for i in range(51):
      pred = trainer([pulse, eis])
      eis = tf.concat([eis, pred[:,-1:,:]], axis = -2)
    eis = eis[:,1:,:][0]
    for e in eis:
      output.write(','.join([str(test_num),soc,str(e[0].numpy().item()),str(e[1].numpy().item())]) + '\n')
output.close()

